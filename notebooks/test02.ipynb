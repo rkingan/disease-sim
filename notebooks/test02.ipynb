{
 "cells": [
  {
   "cell_type": "markdown",
   "id": "d46ec92a-d7db-4e7b-9380-02416334231c",
   "metadata": {},
   "source": [
    "# Test methods for selecting vertices by centrality"
   ]
  },
  {
   "cell_type": "code",
   "execution_count": null,
   "id": "e84ebb38-625c-4437-9ed6-c74d24f2f23a",
   "metadata": {},
   "outputs": [],
   "source": [
    "import igraph\n",
    "from scipy.io import mmread\n",
    "import numpy as np\n",
    "from dissim.igraph_util import nodes_from_igraph, colors_from_nodes\n",
    "from dissim.main import iterate, DSState\n",
    "from dissim.death_ftn import generate_normal_death_ftn_factory\n",
    "from dissim.rng import SimpleSampler\n",
    "from dissim.centrality import *"
   ]
  },
  {
   "cell_type": "code",
   "execution_count": null,
   "id": "40a948ee-8593-47f4-b6f5-892fcdf43cec",
   "metadata": {},
   "outputs": [],
   "source": [
    "matrix = mmread(\"/home/rkingan/winhome/Documents/dev/src/sandra-math5001-2022/soc-karate.mtx\")"
   ]
  },
  {
   "cell_type": "code",
   "execution_count": null,
   "id": "26f9d300-4cf4-42ae-9ed2-ea43e1197173",
   "metadata": {},
   "outputs": [],
   "source": [
    "adj = matrix.todense()\n",
    "G = igraph.Graph.Adjacency(adj > 0).as_undirected()\n",
    "n = len(G.vs)\n",
    "m = len(G.es)\n",
    "G.vs[\"label\"] = [f\"v{i}\" for i in range(n)]\n",
    "print(f\"Vertices: {n}, Edges: {m}\")\n",
    "\n",
    "igraph.plot(G, vertex_size=32, bbox=(600, 600))"
   ]
  },
  {
   "cell_type": "code",
   "execution_count": null,
   "id": "72a67880-7b85-4d66-b393-10d65ff8cd23",
   "metadata": {},
   "outputs": [],
   "source": [
    "sampler = SimpleSampler(42)"
   ]
  },
  {
   "cell_type": "code",
   "execution_count": null,
   "id": "fa8706ac-5f04-4177-bc70-e5d08753609c",
   "metadata": {},
   "outputs": [],
   "source": [
    "v = select_vertices_by_centrality_from_matrix(adj, 3, compute_degree_centrality_of_matrix, sampler)"
   ]
  },
  {
   "cell_type": "code",
   "execution_count": null,
   "id": "b2d1ee36-cc8e-427d-b52d-0e314e461f26",
   "metadata": {},
   "outputs": [],
   "source": [
    "print(v)"
   ]
  },
  {
   "cell_type": "code",
   "execution_count": null,
   "id": "5b7d6290-ec67-48c3-8f25-7909dc3fcb5d",
   "metadata": {},
   "outputs": [],
   "source": [
    "vv = select_vertices_by_centrality_from_graph(G, 3, compute_degree_centrality_of_graph, sampler)"
   ]
  },
  {
   "cell_type": "code",
   "execution_count": null,
   "id": "fddf91e5-d468-433c-816f-43cf63a301df",
   "metadata": {},
   "outputs": [],
   "source": [
    "print(vv)"
   ]
  },
  {
   "cell_type": "code",
   "execution_count": null,
   "id": "57014db0-10ef-4c23-ae87-23b4b38570bc",
   "metadata": {},
   "outputs": [],
   "source": []
  }
 ],
 "metadata": {
  "kernelspec": {
   "display_name": "dissim",
   "language": "python",
   "name": "dissim"
  },
  "language_info": {
   "codemirror_mode": {
    "name": "ipython",
    "version": 3
   },
   "file_extension": ".py",
   "mimetype": "text/x-python",
   "name": "python",
   "nbconvert_exporter": "python",
   "pygments_lexer": "ipython3",
   "version": "3.8.10"
  }
 },
 "nbformat": 4,
 "nbformat_minor": 5
}
