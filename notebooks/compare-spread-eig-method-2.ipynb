{
 "cells": [
  {
   "cell_type": "markdown",
   "id": "0d7272ac-8df4-49f9-b890-269d044c3c52",
   "metadata": {},
   "source": [
    "# Compare spread and eigenvalue centrality when choosing vertices to remove\n",
    "\n",
    "On several test graphs, use both centrality measures to select vertices to remove, one by one, until a fixed number of vertices is reached (where the number is selected based on the size of the graph). "
   ]
  },
  {
   "cell_type": "code",
   "execution_count": 1,
   "id": "3caac0ba-56f2-4a3d-8039-bf8302e38634",
   "metadata": {},
   "outputs": [],
   "source": [
    "import igraph\n",
    "from scipy.io import mmread\n",
    "from scipy.linalg import eigh\n",
    "import numpy as np\n",
    "from dissim.igraph_util import nodes_from_igraph, colors_from_nodes\n",
    "from dissim.main import DSState\n",
    "from dissim.death_ftn import generate_normal_death_ftn_factory\n",
    "from dissim.rng import SimpleSampler\n",
    "from dissim.centrality import compute_spread_centrality_of_matrix, compute_eigenvector_centrality_of_matrix\n",
    "import matplotlib.pyplot as plt"
   ]
  },
  {
   "cell_type": "code",
   "execution_count": 2,
   "id": "6bd27df8-4f3b-41ed-a2db-cd1985e2279b",
   "metadata": {},
   "outputs": [],
   "source": [
    "def largest_eigenvalue(adj: np.array) -> float:\n",
    "    n = adj.shape[0]\n",
    "    w = eigh(adj, eigvals_only=True, subset_by_index=[n - 1, n - 1])\n",
    "    return np.real(w)[0]"
   ]
  },
  {
   "cell_type": "code",
   "execution_count": 3,
   "id": "db403fb7-c04b-41a5-97e4-7022044e01d3",
   "metadata": {},
   "outputs": [],
   "source": [
    "def remove_vertex(adj, i):\n",
    "    result = np.delete(adj, i, axis=0)\n",
    "    result = np.delete(result, i, axis=1)\n",
    "    return result"
   ]
  },
  {
   "cell_type": "markdown",
   "id": "3595f216-9469-4368-9c7b-f1b12c8d88db",
   "metadata": {},
   "source": [
    "## 1. Karate graph"
   ]
  },
  {
   "cell_type": "code",
   "execution_count": 4,
   "id": "4e1c78b2-f085-4305-8ace-c2a6e17f5315",
   "metadata": {},
   "outputs": [
    {
     "name": "stdout",
     "output_type": "stream",
     "text": [
      "34\n"
     ]
    }
   ],
   "source": [
    "matrix = mmread(\"/home/rkingan/winhome/Documents/dev/src/sandra-math5001-2022/soc-karate.mtx\")\n",
    "adj = matrix.todense()\n",
    "n = adj.shape[0]\n",
    "to_remove = 8 # around 1/4 of the graph\n",
    "print(n)"
   ]
  },
  {
   "cell_type": "markdown",
   "id": "362c9a76-d344-4cbd-b11b-4dd5bc052da8",
   "metadata": {},
   "source": [
    "### Spread centrality"
   ]
  },
  {
   "cell_type": "code",
   "execution_count": 5,
   "id": "90539d76-3ad8-47a9-bd97-065617931ace",
   "metadata": {},
   "outputs": [],
   "source": [
    "sampler = SimpleSampler(42)\n",
    "minor = adj\n",
    "nn = n\n",
    "original_labels = list(range(n))\n",
    "ss_removed = []\n",
    "ss_largest_eigenvalues = [largest_eigenvalue(minor)]\n",
    "for i in range(to_remove):\n",
    "    cent = compute_spread_centrality_of_matrix(minor)\n",
    "    max_cent = max(cent)\n",
    "    which_max = [i for i in range(nn) if cent[i] == max_cent]\n",
    "    if len(which_max) > 1:\n",
    "        j = sampler(which_max, 1)[0]\n",
    "    else:\n",
    "        j = which_max[0]\n",
    "    minor = remove_vertex(minor, j)\n",
    "    ss_removed.append(original_labels[j])\n",
    "    del original_labels[j]\n",
    "    nn -= 1\n",
    "    ss_largest_eigenvalues.append(largest_eigenvalue(minor))\n",
    "    "
   ]
  },
  {
   "cell_type": "code",
   "execution_count": 6,
   "id": "ed10f0b0-7884-4b33-acb7-ac6769ac3d9a",
   "metadata": {},
   "outputs": [
    {
     "name": "stdout",
     "output_type": "stream",
     "text": [
      "Largest eigenvalue:     6.7257\n",
      " i  vertex  largest eigenvalue\n",
      " 1   33       6.0880\n",
      " 2    0       4.6220\n",
      " 3    2       3.6942\n",
      " 4   32       3.1525\n",
      " 5    1       2.6189\n",
      " 6   31       2.4812\n",
      " 7    4       2.1753\n",
      " 8   27       2.1701\n"
     ]
    }
   ],
   "source": [
    "print(f\"Largest eigenvalue: {ss_largest_eigenvalues[0]:10.4f}\")\n",
    "print(\" i  vertex  largest eigenvalue\")\n",
    "for i in range(to_remove):\n",
    "    print(f\"{i + 1:2d}   {ss_removed[i]:2d}   {ss_largest_eigenvalues[i + 1]:10.4f}\")"
   ]
  },
  {
   "cell_type": "markdown",
   "id": "7b343ae1-1212-456a-b5c1-b44134a216d7",
   "metadata": {},
   "source": [
    "### Eigenvector centrality"
   ]
  },
  {
   "cell_type": "code",
   "execution_count": 7,
   "id": "7183631e-a577-46ca-a5d1-16e1f64b7b87",
   "metadata": {},
   "outputs": [],
   "source": [
    "sampler = SimpleSampler(42)\n",
    "minor = adj\n",
    "nn = n\n",
    "original_labels = list(range(n))\n",
    "eig_removed = []\n",
    "eig_largest_eigenvalues = [largest_eigenvalue(minor)]\n",
    "for i in range(to_remove):\n",
    "    cent = compute_eigenvector_centrality_of_matrix(minor)\n",
    "    max_cent = max(cent)\n",
    "    which_max = [i for i in range(nn) if cent[i] == max_cent]\n",
    "    if len(which_max) > 1:\n",
    "        j = sampler(which_max, 1)[0]\n",
    "    else:\n",
    "        j = which_max[0]\n",
    "    minor = remove_vertex(minor, j)\n",
    "    eig_removed.append(original_labels[j])\n",
    "    del original_labels[j]\n",
    "    nn -= 1\n",
    "    eig_largest_eigenvalues.append(largest_eigenvalue(minor))\n",
    "    "
   ]
  },
  {
   "cell_type": "code",
   "execution_count": 8,
   "id": "133ad4b9-90af-4f85-b179-ef3d1e1c2dfb",
   "metadata": {},
   "outputs": [
    {
     "name": "stdout",
     "output_type": "stream",
     "text": [
      "Largest eigenvalue:     6.7257\n",
      " i  vertex  largest eigenvalue\n",
      " 1   33       6.0880\n",
      " 2    0       4.6220\n",
      " 3    2       3.6942\n",
      " 4   32       3.1525\n",
      " 5    1       2.6189\n",
      " 6   25       2.4812\n",
      " 7   14       2.4812\n",
      " 8   11       2.4812\n"
     ]
    }
   ],
   "source": [
    "print(f\"Largest eigenvalue: {eig_largest_eigenvalues[0]:10.4f}\")\n",
    "print(\" i  vertex  largest eigenvalue\")\n",
    "for i in range(to_remove):\n",
    "    print(f\"{i + 1:2d}   {eig_removed[i]:2d}   {eig_largest_eigenvalues[i + 1]:10.4f}\")"
   ]
  },
  {
   "cell_type": "code",
   "execution_count": 9,
   "id": "4952cadd-3860-4067-87d0-435ede196099",
   "metadata": {},
   "outputs": [
    {
     "data": {
      "image/png": "[encoded data removed]",
      "text/plain": [
       "<Figure size 864x864 with 1 Axes>"
      ]
     },
     "metadata": {
      "needs_background": "light"
     },
     "output_type": "display_data"
    }
   ],
   "source": [
    "fig, ax = plt.subplots(figsize=(12, 12))\n",
    "X = list(range(1, 1 + to_remove))\n",
    "Y1 = ss_largest_eigenvalues[1:]\n",
    "Y2 = eig_largest_eigenvalues[1:]\n",
    "ax.plot(X, Y1, color=\"red\", label=\"Spread centrality\", linestyle=\"dotted\")\n",
    "ax.plot(X, Y2, color=\"blue\", label=\"Eigenvector centrality\", linestyle=\"-\")\n",
    "ax.set_ylabel(\"Largest eigenvalue\")\n",
    "ax.set_xlabel(\"Iteration\")\n",
    "ax.set_title(\"Karate graph (n=34)\")\n",
    "ax.legend()\n",
    "plt.show()"
   ]
  },
  {
   "cell_type": "markdown",
   "id": "c75332f7-306e-4a9b-a738-5badf69132f3",
   "metadata": {},
   "source": [
    "## 2. Football graph"
   ]
  },
  {
   "cell_type": "code",
   "execution_count": 10,
   "id": "387824f4-9f2c-412d-93cb-c8b4915d3c30",
   "metadata": {},
   "outputs": [],
   "source": [
    "G = igraph.Graph.Read_GML(\"/home/rkingan/winhome/Documents/dev/src/sandra-math5001-2022/Graphs-Large-02/football.gml\").as_undirected()"
   ]
  },
  {
   "cell_type": "code",
   "execution_count": 11,
   "id": "bd5e4468-52f3-43fa-a202-b71a92f68ae0",
   "metadata": {},
   "outputs": [
    {
     "name": "stdout",
     "output_type": "stream",
     "text": [
      "115 28\n"
     ]
    }
   ],
   "source": [
    "adj = np.array(G.get_adjacency().data)\n",
    "n = adj.shape[0]\n",
    "to_remove = int(n / 4)\n",
    "print(n, to_remove)"
   ]
  },
  {
   "cell_type": "markdown",
   "id": "0972ee16-bf5b-4e1b-8c8e-8c69ce15d5b8",
   "metadata": {},
   "source": [
    "### Spread centrality"
   ]
  },
  {
   "cell_type": "code",
   "execution_count": 12,
   "id": "b73cb9c8-cb23-4709-82f2-56ce16bb899a",
   "metadata": {},
   "outputs": [
    {
     "name": "stdout",
     "output_type": "stream",
     "text": [
      "i=9, largest eigenvalue=   9.5848\n",
      "i=19, largest eigenvalue=   8.3700\n"
     ]
    }
   ],
   "source": [
    "sampler = SimpleSampler(42)\n",
    "minor = adj\n",
    "nn = n\n",
    "original_labels = list(range(n))\n",
    "ss_removed = []\n",
    "ss_largest_eigenvalues = [largest_eigenvalue(minor)]\n",
    "ss_num_ties = []\n",
    "for i in range(to_remove):\n",
    "    cent = compute_spread_centrality_of_matrix(minor)\n",
    "    max_cent = max(cent)\n",
    "    which_max = [i for i in range(nn) if cent[i] == max_cent]\n",
    "    ss_num_ties.append(len(which_max))\n",
    "    if len(which_max) > 1:\n",
    "        j = sampler(which_max, 1)[0]\n",
    "    else:\n",
    "        j = which_max[0]\n",
    "    minor = remove_vertex(minor, j)\n",
    "    ss_removed.append(original_labels[j])\n",
    "    del original_labels[j]\n",
    "    nn -= 1\n",
    "    ss_largest_eigenvalues.append(largest_eigenvalue(minor))\n",
    "    if (i + 1) % 10 == 0:\n",
    "        print(f\"i={i}, largest eigenvalue={ss_largest_eigenvalues[-1]:9.4f}\")"
   ]
  },
  {
   "cell_type": "code",
   "execution_count": 13,
   "id": "d58e19d4-569e-4fe2-ad80-28ebe7550c16",
   "metadata": {},
   "outputs": [
    {
     "name": "stdout",
     "output_type": "stream",
     "text": [
      "Largest eigenvalue:    10.7806\n",
      " i  vertex  ties  largest eigenvalue\n",
      " 1    67      1      10.6425\n",
      " 2     2      1      10.5128\n",
      " 3     0      1      10.4002\n",
      " 4     7      1      10.2931\n",
      " 5    44      1      10.1746\n",
      " 6    62      1      10.0637\n",
      " 7    55      1       9.9560\n",
      " 8     5      1       9.8242\n",
      " 9    32      1       9.7019\n",
      "10    25      1       9.5848\n",
      "11    38      1       9.4800\n",
      "12    88      1       9.3545\n",
      "13    92      1       9.2450\n",
      "14    51      1       9.1121\n",
      "15    70      1       8.9858\n",
      "16    72      1       8.8659\n",
      "17    80      1       8.7231\n",
      "18    17      1       8.6131\n",
      "19    34      1       8.5003\n",
      "20     9      1       8.3700\n",
      "21    84      1       8.2458\n",
      "22   109      1       8.1373\n",
      "23    60      1       8.0108\n",
      "24    48      1       7.8914\n",
      "25    78      1       7.7625\n",
      "26    82      1       7.6658\n",
      "27    87      1       7.5507\n",
      "28    43      1       7.4286\n"
     ]
    }
   ],
   "source": [
    "print(f\"Largest eigenvalue: {ss_largest_eigenvalues[0]:10.4f}\")\n",
    "print(\" i  vertex  ties  largest eigenvalue\")\n",
    "for i in range(to_remove):\n",
    "    print(f\"{i + 1:2d}   {ss_removed[i]:3d}     {ss_num_ties[i]:2d}   {ss_largest_eigenvalues[i + 1]:10.4f}\")"
   ]
  },
  {
   "cell_type": "markdown",
   "id": "7752bae4-8a6b-4bfe-811e-5db865978b1a",
   "metadata": {},
   "source": [
    "### Eigenvector centrality"
   ]
  },
  {
   "cell_type": "code",
   "execution_count": 14,
   "id": "e553d739-d280-4e6b-8044-bdce73502ee6",
   "metadata": {},
   "outputs": [],
   "source": [
    "sampler = SimpleSampler(42)\n",
    "minor = adj\n",
    "nn = n\n",
    "original_labels = list(range(n))\n",
    "eig_removed = []\n",
    "eig_largest_eigenvalues = [largest_eigenvalue(minor)]\n",
    "eig_num_ties = []\n",
    "for i in range(to_remove):\n",
    "    cent = compute_eigenvector_centrality_of_matrix(minor)\n",
    "    max_cent = max(cent)\n",
    "    which_max = [i for i in range(nn) if cent[i] == max_cent]\n",
    "    eig_num_ties.append(len(which_max))\n",
    "    if len(which_max) > 1:\n",
    "        j = sampler(which_max, 1)[0]\n",
    "    else:\n",
    "        j = which_max[0]\n",
    "    minor = remove_vertex(minor, j)\n",
    "    eig_removed.append(original_labels[j])\n",
    "    del original_labels[j]\n",
    "    nn -= 1\n",
    "    eig_largest_eigenvalues.append(largest_eigenvalue(minor))"
   ]
  },
  {
   "cell_type": "code",
   "execution_count": 15,
   "id": "e9c007af-2f82-49b7-86c9-c908fa9d9380",
   "metadata": {},
   "outputs": [
    {
     "name": "stdout",
     "output_type": "stream",
     "text": [
      "Largest eigenvalue:    10.7806\n",
      " i  eig-v  eig-largest-eig  ss-v ss-largest-eig\n",
      " 1    67      10.6425        67    10.6425  eig \n",
      " 2     2      10.5128         2    10.5128  eig \n",
      " 3     7      10.4030         0    10.4002  ss \n",
      " 4     1      10.2692         7    10.2931  eig \n",
      " 5    35      10.1656        44    10.1746  eig \n",
      " 6     5      10.0509        62    10.0637  eig \n",
      " 7    87       9.9266        55     9.9560  eig \n",
      " 8    32       9.8050         5     9.8242  eig \n",
      " 9    91       9.6926        32     9.7019  eig \n",
      "10    61       9.5840        25     9.5848  eig \n",
      "11    23       9.4599        38     9.4800  eig \n",
      "12    88       9.3305        88     9.3545  eig \n",
      "13    70       9.2111        92     9.2450  eig \n",
      "14    51       9.1161        51     9.1121  ss \n",
      "15    38       8.9924        70     8.9858  ss \n",
      "16   109       8.8748        72     8.8659  ss \n",
      "17    81       8.7306        80     8.7231  ss \n",
      "18    48       8.6101        17     8.6131  eig \n",
      "19    55       8.4941        34     8.5003  eig \n",
      "20    60       8.3725         9     8.3700  ss \n",
      "21    17       8.2635        84     8.2458  ss \n",
      "22   102       8.1424       109     8.1373  ss \n",
      "23     9       8.0213        60     8.0108  ss \n",
      "24    80       7.8877        48     7.8914  eig \n",
      "25    53       7.7748        78     7.7625  ss \n",
      "26    76       7.6606        82     7.6658  eig \n",
      "27    18       7.5366        87     7.5507  eig \n",
      "28    77       7.4108        43     7.4286  eig \n",
      "10 18\n"
     ]
    }
   ],
   "source": [
    "print(f\"Largest eigenvalue: {eig_largest_eigenvalues[0]:10.4f}\")\n",
    "print(\" i  eig-v  eig-largest-eig  ss-v ss-largest-eig\")\n",
    "ss_wins = 0\n",
    "for i in range(to_remove):\n",
    "    if ss_largest_eigenvalues[i + 1] < eig_largest_eigenvalues[i + 1]:\n",
    "        ss_wins += 1\n",
    "        winner = \"ss\"\n",
    "    else:\n",
    "        winner = \"eig\"\n",
    "    print(f\"{i + 1:2d}   {eig_removed[i]:3d}   {eig_largest_eigenvalues[i + 1]:10.4f}       {ss_removed[i]:3d} {ss_largest_eigenvalues[i + 1]:10.4f}  {winner} \")\n",
    "    \n",
    "print(ss_wins, to_remove - ss_wins)"
   ]
  },
  {
   "cell_type": "code",
   "execution_count": 16,
   "id": "62c7ad66-7f9a-41a0-a2ae-17f6cf52b077",
   "metadata": {},
   "outputs": [
    {
     "data": {
      "image/png": "[encoded data removed]",
      "text/plain": [
       "<Figure size 864x864 with 1 Axes>"
      ]
     },
     "metadata": {
      "needs_background": "light"
     },
     "output_type": "display_data"
    }
   ],
   "source": [
    "fig, ax = plt.subplots(figsize=(12, 12))\n",
    "X = list(range(1, 1 + to_remove))\n",
    "Y1 = ss_largest_eigenvalues[1:]\n",
    "Y2 = eig_largest_eigenvalues[1:]\n",
    "ax.plot(X, Y1, color=\"red\", label=\"Spread centrality\", linestyle=\"dotted\")\n",
    "ax.plot(X, Y2, color=\"blue\", label=\"Eigenvector centrality\", linestyle=\"-\")\n",
    "ax.set_ylabel(\"Largest eigenvalue\")\n",
    "ax.set_xlabel(\"Iteration\")\n",
    "ax.set_title(\"Football graph (n=115)\")\n",
    "ax.legend()\n",
    "plt.show()"
   ]
  },
  {
   "cell_type": "code",
   "execution_count": null,
   "id": "fea1ceb9-cdf4-4576-99d9-174a218dd739",
   "metadata": {},
   "outputs": [],
   "source": []
  }
 ],
 "metadata": {
  "kernelspec": {
   "display_name": "dissim",
   "language": "python",
   "name": "dissim"
  },
  "language_info": {
   "codemirror_mode": {
    "name": "ipython",
    "version": 3
   },
   "file_extension": ".py",
   "mimetype": "text/x-python",
   "name": "python",
   "nbconvert_exporter": "python",
   "pygments_lexer": "ipython3",
   "version": "3.8.10"
  }
 },
 "nbformat": 4,
 "nbformat_minor": 5
}
