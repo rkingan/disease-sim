{
 "cells": [
  {
   "cell_type": "markdown",
   "id": "2956da20-8dd5-44fc-8af0-14aa2077dae6",
   "metadata": {},
   "source": [
    "# Compare average infection curves for a few output files from the `sim` routine.\n",
    "\n",
    "See the file [running-simulations.md](../doc/running-simulations.md) in this repository for details on running simulations. The runs compared here are as follows:\n",
    "\n",
    "```bash\n",
    "python -m dissim.sim karate karate-low-pd-01.csv -b 0.05 -d 0.1\n",
    "python -m dissim.sim karate karate-high-pd-01.csv -b 0.05 -d 0.4\n",
    "python -m dissim.sim karate karate-low-pd-02.csv -b 0.05 -d 0.007\n",
    "```\n",
    "\n",
    "## Procedure\n",
    "\n",
    "I ran the simulation with no vaccinated vertices and each vertex selected in turn as the first to be infected. For each selection, 100 trials were run for 50 runs (that is, 50 steps in time). \n",
    "\n",
    "In this notebook, I read the output files and averaged the number of infected nodes at each point in time to get one \"curve\" with 50 points. The two curves are plotted below."
   ]
  },
  {
   "cell_type": "code",
   "execution_count": 3,
   "id": "0395fa7a-14f4-4c40-af79-546677cedacb",
   "metadata": {},
   "outputs": [],
   "source": [
    "import pandas as pd\n",
    "import matplotlib.pyplot as plt"
   ]
  },
  {
   "cell_type": "markdown",
   "id": "be2e1a4f-5f07-43df-ab98-41b46ff1df82",
   "metadata": {},
   "source": [
    "## Load the output files"
   ]
  },
  {
   "cell_type": "code",
   "execution_count": 30,
   "id": "53870421-6b2c-44bd-afc2-18c4e28621d8",
   "metadata": {},
   "outputs": [],
   "source": [
    "fn1 = \"../karate-low-pd-02.csv\"\n",
    "fn2 = \"../karate-high-pd-01.csv\"\n",
    "name1 = \"Karate graph, $p_b=0.05$, $p_d=0.07$\"\n",
    "name2 = \"Karate graph, $p_b=0.05$, $p_d=0.40$\""
   ]
  },
  {
   "cell_type": "code",
   "execution_count": 26,
   "id": "606735a1-6a8c-4137-9e17-d98aeef70d3f",
   "metadata": {},
   "outputs": [
    {
     "data": {
      "text/html": [
       "<div>\n",
       "<style scoped>\n",
       "    .dataframe tbody tr th:only-of-type {\n",
       "        vertical-align: middle;\n",
       "    }\n",
       "\n",
       "    .dataframe tbody tr th {\n",
       "        vertical-align: top;\n",
       "    }\n",
       "\n",
       "    .dataframe thead th {\n",
       "        text-align: right;\n",
       "    }\n",
       "</style>\n",
       "<table border=\"1\" class=\"dataframe\">\n",
       "  <thead>\n",
       "    <tr style=\"text-align: right;\">\n",
       "      <th></th>\n",
       "      <th>graph</th>\n",
       "      <th>leig</th>\n",
       "      <th>patient0</th>\n",
       "      <th>patient0_cent</th>\n",
       "      <th>rounds</th>\n",
       "      <th>strategy</th>\n",
       "      <th>centrality</th>\n",
       "      <th>model</th>\n",
       "      <th>pb</th>\n",
       "      <th>pd</th>\n",
       "      <th>...</th>\n",
       "      <th>infected_090</th>\n",
       "      <th>infected_091</th>\n",
       "      <th>infected_092</th>\n",
       "      <th>infected_093</th>\n",
       "      <th>infected_094</th>\n",
       "      <th>infected_095</th>\n",
       "      <th>infected_096</th>\n",
       "      <th>infected_097</th>\n",
       "      <th>infected_098</th>\n",
       "      <th>infected_099</th>\n",
       "    </tr>\n",
       "  </thead>\n",
       "  <tbody>\n",
       "    <tr>\n",
       "      <th>0</th>\n",
       "      <td>karate</td>\n",
       "      <td>6.725698</td>\n",
       "      <td>0</td>\n",
       "      <td>NaN</td>\n",
       "      <td>100</td>\n",
       "      <td>NaN</td>\n",
       "      <td>NaN</td>\n",
       "      <td>SIS</td>\n",
       "      <td>0.05</td>\n",
       "      <td>0.007</td>\n",
       "      <td>...</td>\n",
       "      <td>21</td>\n",
       "      <td>22</td>\n",
       "      <td>22</td>\n",
       "      <td>20</td>\n",
       "      <td>21</td>\n",
       "      <td>21</td>\n",
       "      <td>22</td>\n",
       "      <td>23</td>\n",
       "      <td>26</td>\n",
       "      <td>27</td>\n",
       "    </tr>\n",
       "    <tr>\n",
       "      <th>1</th>\n",
       "      <td>karate</td>\n",
       "      <td>6.725698</td>\n",
       "      <td>0</td>\n",
       "      <td>NaN</td>\n",
       "      <td>100</td>\n",
       "      <td>NaN</td>\n",
       "      <td>NaN</td>\n",
       "      <td>SIS</td>\n",
       "      <td>0.05</td>\n",
       "      <td>0.007</td>\n",
       "      <td>...</td>\n",
       "      <td>24</td>\n",
       "      <td>27</td>\n",
       "      <td>26</td>\n",
       "      <td>25</td>\n",
       "      <td>26</td>\n",
       "      <td>25</td>\n",
       "      <td>23</td>\n",
       "      <td>20</td>\n",
       "      <td>19</td>\n",
       "      <td>22</td>\n",
       "    </tr>\n",
       "    <tr>\n",
       "      <th>2</th>\n",
       "      <td>karate</td>\n",
       "      <td>6.725698</td>\n",
       "      <td>0</td>\n",
       "      <td>NaN</td>\n",
       "      <td>100</td>\n",
       "      <td>NaN</td>\n",
       "      <td>NaN</td>\n",
       "      <td>SIS</td>\n",
       "      <td>0.05</td>\n",
       "      <td>0.007</td>\n",
       "      <td>...</td>\n",
       "      <td>26</td>\n",
       "      <td>24</td>\n",
       "      <td>22</td>\n",
       "      <td>20</td>\n",
       "      <td>20</td>\n",
       "      <td>20</td>\n",
       "      <td>19</td>\n",
       "      <td>17</td>\n",
       "      <td>17</td>\n",
       "      <td>17</td>\n",
       "    </tr>\n",
       "    <tr>\n",
       "      <th>3</th>\n",
       "      <td>karate</td>\n",
       "      <td>6.725698</td>\n",
       "      <td>0</td>\n",
       "      <td>NaN</td>\n",
       "      <td>100</td>\n",
       "      <td>NaN</td>\n",
       "      <td>NaN</td>\n",
       "      <td>SIS</td>\n",
       "      <td>0.05</td>\n",
       "      <td>0.007</td>\n",
       "      <td>...</td>\n",
       "      <td>22</td>\n",
       "      <td>24</td>\n",
       "      <td>21</td>\n",
       "      <td>23</td>\n",
       "      <td>22</td>\n",
       "      <td>20</td>\n",
       "      <td>23</td>\n",
       "      <td>24</td>\n",
       "      <td>25</td>\n",
       "      <td>20</td>\n",
       "    </tr>\n",
       "    <tr>\n",
       "      <th>4</th>\n",
       "      <td>karate</td>\n",
       "      <td>6.725698</td>\n",
       "      <td>0</td>\n",
       "      <td>NaN</td>\n",
       "      <td>100</td>\n",
       "      <td>NaN</td>\n",
       "      <td>NaN</td>\n",
       "      <td>SIS</td>\n",
       "      <td>0.05</td>\n",
       "      <td>0.007</td>\n",
       "      <td>...</td>\n",
       "      <td>22</td>\n",
       "      <td>24</td>\n",
       "      <td>23</td>\n",
       "      <td>21</td>\n",
       "      <td>21</td>\n",
       "      <td>22</td>\n",
       "      <td>18</td>\n",
       "      <td>17</td>\n",
       "      <td>19</td>\n",
       "      <td>21</td>\n",
       "    </tr>\n",
       "  </tbody>\n",
       "</table>\n",
       "<p>5 rows × 112 columns</p>\n",
       "</div>"
      ],
      "text/plain": [
       "    graph      leig  patient0  patient0_cent  rounds  strategy  centrality  \\\n",
       "0  karate  6.725698         0            NaN     100       NaN         NaN   \n",
       "1  karate  6.725698         0            NaN     100       NaN         NaN   \n",
       "2  karate  6.725698         0            NaN     100       NaN         NaN   \n",
       "3  karate  6.725698         0            NaN     100       NaN         NaN   \n",
       "4  karate  6.725698         0            NaN     100       NaN         NaN   \n",
       "\n",
       "  model    pb     pd  ...  infected_090  infected_091  infected_092  \\\n",
       "0   SIS  0.05  0.007  ...            21            22            22   \n",
       "1   SIS  0.05  0.007  ...            24            27            26   \n",
       "2   SIS  0.05  0.007  ...            26            24            22   \n",
       "3   SIS  0.05  0.007  ...            22            24            21   \n",
       "4   SIS  0.05  0.007  ...            22            24            23   \n",
       "\n",
       "   infected_093  infected_094  infected_095  infected_096  infected_097  \\\n",
       "0            20            21            21            22            23   \n",
       "1            25            26            25            23            20   \n",
       "2            20            20            20            19            17   \n",
       "3            23            22            20            23            24   \n",
       "4            21            21            22            18            17   \n",
       "\n",
       "   infected_098  infected_099  \n",
       "0            26            27  \n",
       "1            19            22  \n",
       "2            17            17  \n",
       "3            25            20  \n",
       "4            19            21  \n",
       "\n",
       "[5 rows x 112 columns]"
      ]
     },
     "execution_count": 26,
     "metadata": {},
     "output_type": "execute_result"
    }
   ],
   "source": [
    "df1 = pd.read_csv(fn1)\n",
    "df2 = pd.read_csv(fn2)\n",
    "df1.head()"
   ]
  },
  {
   "cell_type": "markdown",
   "id": "a5b9bb31-210f-4f5c-a97c-5d7507cfc26c",
   "metadata": {},
   "source": [
    "## Compute averages for all the 50 columns with number of infected nodes at each point in time"
   ]
  },
  {
   "cell_type": "code",
   "execution_count": 28,
   "id": "a914aeff-0691-4b20-9f82-26d8068fcada",
   "metadata": {},
   "outputs": [],
   "source": [
    "df1_means = df1.iloc[:, 12:].mean(axis=0)\n",
    "df2_means = df2.iloc[:, 12:].mean(axis=0)\n",
    "df1_stdevs = df1.iloc[:, 12:].std(axis=0)\n",
    "df2_stdevs = df2.iloc[:, 12:].std(axis=0)\n",
    "X = list(range(len(df1_means)))"
   ]
  },
  {
   "cell_type": "markdown",
   "id": "6b6a4cd1-b144-4b05-9af6-2321ceeb765b",
   "metadata": {},
   "source": [
    "## Plot the results with a band showing the single standard deviation range\n",
    "\n",
    "The plots below compare results for $p_b = 0.05, p_d=0.07$ (in red) and $p_b=0.05, p_d = 0.40$ (in blue)."
   ]
  },
  {
   "cell_type": "code",
   "execution_count": 31,
   "id": "902f4d48-7dae-41f5-ba92-ad16daa31d5c",
   "metadata": {},
   "outputs": [
    {
     "data": {
      "image/png": "[encoded data removed]",
      "text/plain": [
       "<Figure size 1152x1152 with 1 Axes>"
      ]
     },
     "metadata": {
      "needs_background": "light"
     },
     "output_type": "display_data"
    }
   ],
   "source": [
    "fig, ax = plt.subplots(figsize=(16, 16))\n",
    "ax.fill_between(X, df1_means - df1_stdevs, df1_means + df1_stdevs, color=\"red\", alpha=0.2)\n",
    "ax.fill_between(X, df2_means - df2_stdevs, df2_means + df2_stdevs, color=\"blue\", alpha=0.2)\n",
    "ax.plot(X, df1_means, marker=\".\", color=\"red\", label=name1)\n",
    "ax.plot(X, df2_means, marker=\".\", color=\"blue\", label=name2)\n",
    "ax.legend(prop={\"size\": 18})\n",
    "plt.show()"
   ]
  },
  {
   "cell_type": "markdown",
   "id": "9643579a-3728-46bb-bcb0-95ffe81bb584",
   "metadata": {},
   "source": [
    "Note that with the low $p_d$ value, the number of infected nodes "
   ]
  },
  {
   "cell_type": "code",
   "execution_count": null,
   "id": "fa36003d-c401-4577-968c-cf1291ffcf80",
   "metadata": {},
   "outputs": [],
   "source": []
  }
 ],
 "metadata": {
  "kernelspec": {
   "display_name": "dissim",
   "language": "python",
   "name": "dissim"
  },
  "language_info": {
   "codemirror_mode": {
    "name": "ipython",
    "version": 3
   },
   "file_extension": ".py",
   "mimetype": "text/x-python",
   "name": "python",
   "nbconvert_exporter": "python",
   "pygments_lexer": "ipython3",
   "version": "3.8.10"
  }
 },
 "nbformat": 4,
 "nbformat_minor": 5
}
