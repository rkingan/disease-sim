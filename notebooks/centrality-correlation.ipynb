{
 "cells": [
  {
   "cell_type": "markdown",
   "id": "94a858bf-2ea9-4242-b128-4615f4a432c4",
   "metadata": {},
   "source": [
    "# Correlation and ranked correlation of eigenvector and spread centrality for karate and football graphs"
   ]
  },
  {
   "cell_type": "code",
   "execution_count": 5,
   "id": "687a3bd1-d29e-4f6c-bd23-d29e46e04e41",
   "metadata": {},
   "outputs": [],
   "source": [
    "import numpy as np\n",
    "from scipy.stats import spearmanr\n",
    "from dissim.igraph_util import load_graph_here\n",
    "from dissim.centrality import compute_spread_centrality_of_graph, compute_eigenvector_centrality_of_graph\n",
    "import matplotlib.pyplot as plt"
   ]
  },
  {
   "cell_type": "code",
   "execution_count": 2,
   "id": "c288752b-c327-427e-b3a9-fd6e7fe6f064",
   "metadata": {},
   "outputs": [],
   "source": [
    "kg = load_graph_here(\"karate\")\n",
    "kss = compute_spread_centrality_of_graph(kg)\n",
    "kes = compute_eigenvector_centrality_of_graph(kg)"
   ]
  },
  {
   "cell_type": "code",
   "execution_count": 6,
   "id": "c7260b24-6183-42f2-8832-724d5b65a6e7",
   "metadata": {},
   "outputs": [
    {
     "name": "stdout",
     "output_type": "stream",
     "text": [
      "Karate graph correlation: [[1.         0.98277993]\n",
      " [0.98277993 1.        ]] and ranked correlation: SpearmanrResult(correlation=0.9964006349559927, pvalue=7.096166556220867e-36)\n"
     ]
    }
   ],
   "source": [
    "kcor = np.corrcoef(kss, kes)\n",
    "krcor = spearmanr(kss, kes)\n",
    "print(f\"Karate graph correlation: {kcor} and ranked correlation: {krcor}\")"
   ]
  },
  {
   "cell_type": "code",
   "execution_count": null,
   "id": "5971ef22-5cf8-4b1c-bb86-e610752ad72d",
   "metadata": {},
   "outputs": [],
   "source": [
    "fig, ax = plt.subplots(figsize=(12, 12))\n",
    "ax.scatter(kss, kes)\n",
    "ax."
   ]
  },
  {
   "cell_type": "code",
   "execution_count": 4,
   "id": "5fb3014a-2546-4e2b-bf22-208d11a6adec",
   "metadata": {},
   "outputs": [],
   "source": [
    "fg = load_graph_here(\"football\")\n",
    "fss = compute_spread_centrality_of_graph(fg)\n",
    "fes = compute_eigenvector_centrality_of_graph(fg)"
   ]
  },
  {
   "cell_type": "code",
   "execution_count": 7,
   "id": "c13ee8a4-fb4a-474a-9018-8ea69f19730a",
   "metadata": {},
   "outputs": [
    {
     "name": "stdout",
     "output_type": "stream",
     "text": [
      "Football graph correlation: [[1.         0.98957241]\n",
      " [0.98957241 1.        ]] and ranked correlation: SpearmanrResult(correlation=0.990538941055788, pvalue=2.575936207035888e-99)\n"
     ]
    }
   ],
   "source": [
    "fcor = np.corrcoef(fss, fes)\n",
    "frcor = spearmanr(fss, fes)\n",
    "print(f\"Football graph correlation: {fcor} and ranked correlation: {frcor}\")"
   ]
  },
  {
   "cell_type": "code",
   "execution_count": null,
   "id": "36efae6e-dbb3-4c79-826e-3f920660be2b",
   "metadata": {},
   "outputs": [],
   "source": []
  }
 ],
 "metadata": {
  "kernelspec": {
   "display_name": "dissim",
   "language": "python",
   "name": "dissim"
  },
  "language_info": {
   "codemirror_mode": {
    "name": "ipython",
    "version": 3
   },
   "file_extension": ".py",
   "mimetype": "text/x-python",
   "name": "python",
   "nbconvert_exporter": "python",
   "pygments_lexer": "ipython3",
   "version": "3.8.10"
  }
 },
 "nbformat": 4,
 "nbformat_minor": 5
}
