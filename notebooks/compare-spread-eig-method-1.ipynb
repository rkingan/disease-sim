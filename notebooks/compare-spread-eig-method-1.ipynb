{
 "cells": [
  {
   "cell_type": "markdown",
   "id": "0d7272ac-8df4-49f9-b890-269d044c3c52",
   "metadata": {},
   "source": [
    "# Compare spread and eigenvalue centrality when choosing vertices to remove\n",
    "\n",
    "On several test graphs, use both centrality measures to select a fixed number vertices to remove (where the number is selected based on the size of the graph). "
   ]
  },
  {
   "cell_type": "code",
   "execution_count": 1,
   "id": "3caac0ba-56f2-4a3d-8039-bf8302e38634",
   "metadata": {},
   "outputs": [],
   "source": [
    "import igraph\n",
    "from scipy.io import mmread\n",
    "from scipy.linalg import eigh\n",
    "import numpy as np\n",
    "from dissim.igraph_util import nodes_from_igraph, colors_from_nodes\n",
    "from dissim.main import iterate, DSState\n",
    "from dissim.death_ftn import generate_normal_death_ftn_factory\n",
    "from dissim.rng import SimpleSampler\n",
    "from dissim.centrality import compute_spread_centrality_of_matrix, compute_eigenvector_centrality_of_matrix\n",
    "import matplotlib.pyplot as plt"
   ]
  },
  {
   "cell_type": "code",
   "execution_count": 2,
   "id": "6bd27df8-4f3b-41ed-a2db-cd1985e2279b",
   "metadata": {},
   "outputs": [],
   "source": [
    "def largest_eigenvalue(adj: np.array) -> float:\n",
    "    n = adj.shape[0]\n",
    "    w = eigh(adj, eigvals_only=True, subset_by_index=[n - 1, n - 1])\n",
    "    return np.real(w)[0]"
   ]
  },
  {
   "cell_type": "code",
   "execution_count": 3,
   "id": "db403fb7-c04b-41a5-97e4-7022044e01d3",
   "metadata": {},
   "outputs": [],
   "source": [
    "def remove_vertex(adj, i):\n",
    "    result = np.delete(adj, i, axis=0)\n",
    "    result = np.delete(result, i, axis=1)\n",
    "    return result"
   ]
  },
  {
   "cell_type": "markdown",
   "id": "3595f216-9469-4368-9c7b-f1b12c8d88db",
   "metadata": {},
   "source": [
    "## 1. Karate graph"
   ]
  },
  {
   "cell_type": "code",
   "execution_count": 17,
   "id": "4e1c78b2-f085-4305-8ace-c2a6e17f5315",
   "metadata": {},
   "outputs": [
    {
     "name": "stdout",
     "output_type": "stream",
     "text": [
      "34\n",
      "156.0\n"
     ]
    }
   ],
   "source": [
    "matrix = mmread(\"/home/rkingan/winhome/Documents/dev/src/sandra-math5001-2022/soc-karate.mtx\")\n",
    "adj = matrix.todense()\n",
    "n = adj.shape[0]\n",
    "to_remove = 17 # half of the graph\n",
    "print(n)\n",
    "print(np.sum(adj))"
   ]
  },
  {
   "cell_type": "markdown",
   "id": "362c9a76-d344-4cbd-b11b-4dd5bc052da8",
   "metadata": {},
   "source": [
    "### Spread centrality"
   ]
  },
  {
   "cell_type": "code",
   "execution_count": 5,
   "id": "90539d76-3ad8-47a9-bd97-065617931ace",
   "metadata": {},
   "outputs": [
    {
     "name": "stdout",
     "output_type": "stream",
     "text": [
      "0,1,2,3,7,8,9,13,19,23,27,28,29,30,31,32,33\n",
      "2.4811943040920155\n"
     ]
    }
   ],
   "source": [
    "sampler = SimpleSampler(42)\n",
    "\n",
    "cent = compute_spread_centrality_of_matrix(adj)\n",
    "cent_pairs = sampler([(i, cent[i]) for i in range(n)], n)\n",
    "cent_pairs.sort(key=lambda t: -t[1])\n",
    "removals = cent_pairs[:to_remove]\n",
    "ss_removal_indices = sorted([t[0] for t in removals])\n",
    "minor = np.delete(adj, ss_removal_indices, axis=0)\n",
    "minor = np.delete(minor, ss_removal_indices, axis=1)\n",
    "ss_largest_eigenvalue_after = largest_eigenvalue(minor)\n",
    "\n",
    "print(\",\".join(str(x) for x in ss_removal_indices))\n",
    "print(ss_largest_eigenvalue_after)"
   ]
  },
  {
   "cell_type": "markdown",
   "id": "7b343ae1-1212-456a-b5c1-b44134a216d7",
   "metadata": {},
   "source": [
    "### Eigenvector centrality"
   ]
  },
  {
   "cell_type": "code",
   "execution_count": 6,
   "id": "7183631e-a577-46ca-a5d1-16e1f64b7b87",
   "metadata": {},
   "outputs": [
    {
     "name": "stdout",
     "output_type": "stream",
     "text": [
      "0,1,2,3,7,8,9,13,19,23,27,28,29,30,31,32,33\n",
      "2.4811943040920155\n"
     ]
    }
   ],
   "source": [
    "sampler = SimpleSampler(42)\n",
    "\n",
    "cent = compute_eigenvector_centrality_of_matrix(adj)\n",
    "cent_pairs = sampler([(i, cent[i]) for i in range(n)], n)\n",
    "cent_pairs.sort(key=lambda t: -t[1])\n",
    "removals = cent_pairs[:to_remove]\n",
    "eig_removal_indices = sorted([t[0] for t in removals])\n",
    "minor = np.delete(adj, eig_removal_indices, axis=0)\n",
    "minor = np.delete(minor, eig_removal_indices, axis=1)\n",
    "eig_largest_eigenvalue_after = largest_eigenvalue(minor)\n",
    "\n",
    "print(\",\".join(str(x) for x in eig_removal_indices))\n",
    "print(eig_largest_eigenvalue_after)"
   ]
  },
  {
   "cell_type": "code",
   "execution_count": 12,
   "id": "b951a44f-b74a-4836-8854-616dd0189dca",
   "metadata": {},
   "outputs": [
    {
     "data": {
      "text/plain": [
       "({69, 92}, {45, 89})"
      ]
     },
     "execution_count": 12,
     "metadata": {},
     "output_type": "execute_result"
    }
   ],
   "source": [
    "set(ss_removal_indices) - set(eig_removal_indices), set(eig_removal_indices) - set(ss_removal_indices)"
   ]
  },
  {
   "cell_type": "markdown",
   "id": "c75332f7-306e-4a9b-a738-5badf69132f3",
   "metadata": {},
   "source": [
    "## 2. Football graph"
   ]
  },
  {
   "cell_type": "code",
   "execution_count": 7,
   "id": "387824f4-9f2c-412d-93cb-c8b4915d3c30",
   "metadata": {},
   "outputs": [],
   "source": [
    "G = igraph.Graph.Read_GML(\"/home/rkingan/winhome/Documents/dev/src/sandra-math5001-2022/Graphs-Large-02/football.gml\").as_undirected()"
   ]
  },
  {
   "cell_type": "code",
   "execution_count": 18,
   "id": "bd5e4468-52f3-43fa-a202-b71a92f68ae0",
   "metadata": {},
   "outputs": [
    {
     "name": "stdout",
     "output_type": "stream",
     "text": [
      "115 613 57\n"
     ]
    }
   ],
   "source": [
    "adj = np.array(G.get_adjacency().data)\n",
    "n = adj.shape[0]\n",
    "to_remove = int(n / 2)\n",
    "print(n, len(G.es), to_remove)"
   ]
  },
  {
   "cell_type": "markdown",
   "id": "0972ee16-bf5b-4e1b-8c8e-8c69ce15d5b8",
   "metadata": {},
   "source": [
    "### Spread centrality"
   ]
  },
  {
   "cell_type": "code",
   "execution_count": 9,
   "id": "b73cb9c8-cb23-4709-82f2-56ce16bb899a",
   "metadata": {},
   "outputs": [
    {
     "name": "stdout",
     "output_type": "stream",
     "text": [
      "0,1,2,3,4,5,6,7,8,9,10,13,15,16,21,22,23,25,32,39,40,41,46,47,48,49,51,52,53,60,64,67,68,69,72,73,74,77,78,80,81,82,83,84,88,92,93,98,100,102,104,106,107,108,110,111,114\n",
      "9.056820324376668\n"
     ]
    }
   ],
   "source": [
    "sampler = SimpleSampler(42)\n",
    "\n",
    "cent = compute_spread_centrality_of_matrix(adj)\n",
    "cent_pairs = sampler([(i, cent[i]) for i in range(n)], n)\n",
    "cent_pairs.sort(key=lambda t: -t[1])\n",
    "removals = cent_pairs[:to_remove]\n",
    "ss_removal_indices = sorted([t[0] for t in removals])\n",
    "minor = np.delete(adj, ss_removal_indices, axis=0)\n",
    "minor = np.delete(minor, ss_removal_indices, axis=1)\n",
    "ss_largest_eigenvalue_after = largest_eigenvalue(minor)\n",
    "\n",
    "print(\",\".join(str(x) for x in ss_removal_indices))\n",
    "print(ss_largest_eigenvalue_after)"
   ]
  },
  {
   "cell_type": "markdown",
   "id": "7752bae4-8a6b-4bfe-811e-5db865978b1a",
   "metadata": {},
   "source": [
    "### Eigenvector centrality"
   ]
  },
  {
   "cell_type": "code",
   "execution_count": 10,
   "id": "e553d739-d280-4e6b-8044-bdce73502ee6",
   "metadata": {},
   "outputs": [
    {
     "name": "stdout",
     "output_type": "stream",
     "text": [
      "0,1,2,3,4,5,6,7,8,9,10,13,15,16,21,22,23,25,32,39,40,41,45,46,47,48,49,51,52,53,60,64,67,68,72,73,74,77,78,80,81,82,83,84,88,89,93,98,100,102,104,106,107,108,110,111,114\n",
      "9.091798552807656\n"
     ]
    }
   ],
   "source": [
    "sampler = SimpleSampler(42)\n",
    "\n",
    "cent = compute_eigenvector_centrality_of_matrix(adj)\n",
    "cent_pairs = sampler([(i, cent[i]) for i in range(n)], n)\n",
    "cent_pairs.sort(key=lambda t: -t[1])\n",
    "removals = cent_pairs[:to_remove]\n",
    "eig_removal_indices = sorted([t[0] for t in removals])\n",
    "minor = np.delete(adj, eig_removal_indices, axis=0)\n",
    "minor = np.delete(minor, eig_removal_indices, axis=1)\n",
    "eig_largest_eigenvalue_after = largest_eigenvalue(minor)\n",
    "\n",
    "print(\",\".join(str(x) for x in eig_removal_indices))\n",
    "print(eig_largest_eigenvalue_after)"
   ]
  },
  {
   "cell_type": "code",
   "execution_count": null,
   "id": "fea1ceb9-cdf4-4576-99d9-174a218dd739",
   "metadata": {},
   "outputs": [],
   "source": []
  }
 ],
 "metadata": {
  "kernelspec": {
   "display_name": "dissim",
   "language": "python",
   "name": "dissim"
  },
  "language_info": {
   "codemirror_mode": {
    "name": "ipython",
    "version": 3
   },
   "file_extension": ".py",
   "mimetype": "text/x-python",
   "name": "python",
   "nbconvert_exporter": "python",
   "pygments_lexer": "ipython3",
   "version": "3.8.10"
  }
 },
 "nbformat": 4,
 "nbformat_minor": 5
}
